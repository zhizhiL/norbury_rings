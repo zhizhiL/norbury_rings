{
 "cells": [
  {
   "cell_type": "code",
   "execution_count": 4,
   "metadata": {},
   "outputs": [],
   "source": [
    "import numpy as np"
   ]
  },
  {
   "cell_type": "code",
   "execution_count": 36,
   "metadata": {},
   "outputs": [
    {
     "data": {
      "text/plain": [
       "(0.38773148148148145, 4.608343863411092)"
      ]
     },
     "execution_count": 36,
     "metadata": {},
     "output_type": "execute_result"
    }
   ],
   "source": [
    "d_p = 1e-3\n",
    "rho_p = 0.08375\n",
    "mu = 1e-6\n",
    "gamma = 4e-1\n",
    "R0 = 0.03\n",
    "g  = 9.81\n",
    "gamma_dict = {0.4: 3.1261, 0.8: 3.0231, np.sqrt(2): (8/3)}\n",
    "\n",
    "alpha = np.sqrt(2)\n",
    "shape_effect = 1 / ((alpha**2) * gamma_dict[alpha])\n",
    "St = (rho_p * d_p**2 * gamma / (18 * mu * (R0**2))) * shape_effect\n",
    "Fr = (gamma / np.sqrt(g * (R0**3))) * shape_effect\n",
    "St, Fr"
   ]
  },
  {
   "cell_type": "code",
   "execution_count": 16,
   "metadata": {},
   "outputs": [
    {
     "data": {
      "text/plain": [
       "0.1666666666666666"
      ]
     },
     "execution_count": 16,
     "metadata": {},
     "output_type": "execute_result"
    }
   ],
   "source": [
    "gamma_dict[alpha]"
   ]
  }
 ],
 "metadata": {
  "kernelspec": {
   "display_name": "base",
   "language": "python",
   "name": "python3"
  },
  "language_info": {
   "codemirror_mode": {
    "name": "ipython",
    "version": 3
   },
   "file_extension": ".py",
   "mimetype": "text/x-python",
   "name": "python",
   "nbconvert_exporter": "python",
   "pygments_lexer": "ipython3",
   "version": "3.9.12"
  }
 },
 "nbformat": 4,
 "nbformat_minor": 2
}
